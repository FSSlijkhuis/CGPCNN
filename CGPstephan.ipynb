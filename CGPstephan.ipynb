{
  "nbformat": 4,
  "nbformat_minor": 0,
  "metadata": {
    "kernelspec": {
      "display_name": "Python 3",
      "language": "python",
      "name": "python3"
    },
    "language_info": {
      "codemirror_mode": {
        "name": "ipython",
        "version": 3
      },
      "file_extension": ".py",
      "mimetype": "text/x-python",
      "name": "python",
      "nbconvert_exporter": "python",
      "pygments_lexer": "ipython3",
      "version": "3.7.6"
    },
    "colab": {
      "name": "CGPstephan.ipynb",
      "provenance": [],
      "collapsed_sections": []
    },
    "accelerator": "GPU"
  },
  "cells": [
    {
      "cell_type": "code",
      "metadata": {
        "id": "2s7H2QfuPLoS",
        "colab_type": "code",
        "colab": {
          "base_uri": "https://localhost:8080/",
          "height": 34
        },
        "outputId": "5a4f406c-686e-48f3-81f4-ba2f23e27798"
      },
      "source": [
        "import numpy as np\n",
        "import matplotlib.pyplot as plt\n",
        "import time\n",
        "\n",
        "import tensorflow as tf\n",
        "import tensorflow.keras as keras\n",
        "from keras import layers, models, activations\n",
        "from keras.models import Model\n",
        "from keras.datasets import cifar10\n",
        "from sklearn.model_selection import train_test_split\n",
        "from keras.utils import to_categorical"
      ],
      "execution_count": 1,
      "outputs": [
        {
          "output_type": "stream",
          "text": [
            "Using TensorFlow backend.\n"
          ],
          "name": "stderr"
        }
      ]
    },
    {
      "cell_type": "code",
      "metadata": {
        "id": "ybqh9CsvPLoX",
        "colab_type": "code",
        "colab": {}
      },
      "source": [
        "# CGP parameter configuration\n",
        "\n",
        "# List of blocks\n",
        "convset = ['ConvBlock32_3',\n",
        "           'ConvBlock32_5',\n",
        "           'ConvBlock64_3',\n",
        "           'ConvBlock64_5',\n",
        "           'ConvBlock128_3',\n",
        "           'ConvBlock128_5',\n",
        "           'pool_max',\n",
        "           'pool_ave']\n",
        "\n",
        "# List of how many inputs each block receives, indexes align with the blocks in convset\n",
        "func_in_num = [1,\n",
        "               1,\n",
        "               1,\n",
        "               1,\n",
        "               1,\n",
        "               1,\n",
        "               1,\n",
        "               1,\n",
        "               1,\n",
        "               1]\n",
        "\n",
        "# If we want to try resset\n",
        "resset = []\n",
        "\n",
        "# CGP vars\n",
        "input_num = 1 #number of input layers\n",
        "out_num = 1 #number of output layers\n",
        "out_type = ['full'] #types of output layers\n",
        "out_in_num = [1] #number of inputs the output layer takes\n",
        "\n",
        "# CGP grid configuration\n",
        "rows = 1\n",
        "cols = 50\n",
        "node_num = rows * cols\n",
        "level_back = 10 #how many layers back connections can be made\n",
        "# window active nodes\n",
        "#min_active_num = 10 \n",
        "#max_active_num = 50\n",
        "\n",
        "func_type_num = len(convset)\n",
        "out_type_num = len(out_type)\n",
        "max_in_num = np.max([np.max(func_in_num), np.max(out_in_num)])"
      ],
      "execution_count": 2,
      "outputs": []
    },
    {
      "cell_type": "code",
      "metadata": {
        "id": "RiRHFPa1PLoZ",
        "colab_type": "code",
        "colab": {
          "base_uri": "https://localhost:8080/",
          "height": 884
        },
        "outputId": "49647279-a2dc-4826-d670-4499091d25a2"
      },
      "source": [
        "# make np.array to use for first gene, parent\n",
        "gene = np.zeros((node_num + out_num, max_in_num + 1)).astype(int)\n",
        "print(gene)"
      ],
      "execution_count": 3,
      "outputs": [
        {
          "output_type": "stream",
          "text": [
            "[[0 0]\n",
            " [0 0]\n",
            " [0 0]\n",
            " [0 0]\n",
            " [0 0]\n",
            " [0 0]\n",
            " [0 0]\n",
            " [0 0]\n",
            " [0 0]\n",
            " [0 0]\n",
            " [0 0]\n",
            " [0 0]\n",
            " [0 0]\n",
            " [0 0]\n",
            " [0 0]\n",
            " [0 0]\n",
            " [0 0]\n",
            " [0 0]\n",
            " [0 0]\n",
            " [0 0]\n",
            " [0 0]\n",
            " [0 0]\n",
            " [0 0]\n",
            " [0 0]\n",
            " [0 0]\n",
            " [0 0]\n",
            " [0 0]\n",
            " [0 0]\n",
            " [0 0]\n",
            " [0 0]\n",
            " [0 0]\n",
            " [0 0]\n",
            " [0 0]\n",
            " [0 0]\n",
            " [0 0]\n",
            " [0 0]\n",
            " [0 0]\n",
            " [0 0]\n",
            " [0 0]\n",
            " [0 0]\n",
            " [0 0]\n",
            " [0 0]\n",
            " [0 0]\n",
            " [0 0]\n",
            " [0 0]\n",
            " [0 0]\n",
            " [0 0]\n",
            " [0 0]\n",
            " [0 0]\n",
            " [0 0]\n",
            " [0 0]]\n"
          ],
          "name": "stdout"
        }
      ]
    },
    {
      "cell_type": "code",
      "metadata": {
        "id": "WeMo5x01PLoc",
        "colab_type": "code",
        "colab": {
          "base_uri": "https://localhost:8080/",
          "height": 102
        },
        "outputId": "19893d1d-aecb-4f9f-dc1d-577ebd065731"
      },
      "source": [
        "# make np.array with bools to use which layers are active\n",
        "is_active = np.empty(node_num + out_num).astype(bool)\n",
        "print(is_active)"
      ],
      "execution_count": 4,
      "outputs": [
        {
          "output_type": "stream",
          "text": [
            "[ True False False False False False False False False False False False\n",
            " False False False False False False False False False False False False\n",
            " False False False False False False False False False False False False\n",
            " False False False False False False False False False False False False\n",
            " False False False]\n"
          ],
          "name": "stdout"
        }
      ]
    },
    {
      "cell_type": "code",
      "metadata": {
        "id": "W9BM-YglPLoe",
        "colab_type": "code",
        "colab": {}
      },
      "source": [
        "# initialize parent gene\n",
        "def init_gene():\n",
        "    for n in range(node_num + out_num):\n",
        "        # type gene\n",
        "        type_num = func_type_num if n < node_num else out_type_num\n",
        "        gene[n][0] = np.random.randint(type_num)\n",
        "        # connection gene\n",
        "        col = np.min((int(n / rows), cols))\n",
        "        max_connect_id = col * rows + input_num\n",
        "        min_connect_id = (col - level_back) * rows + input_num if col - level_back >= 0 else 0\n",
        "        for i in range(max_in_num):\n",
        "            gene[n][i + 1] = min_connect_id + np.random.randint(max_connect_id - min_connect_id)"
      ],
      "execution_count": 5,
      "outputs": []
    },
    {
      "cell_type": "code",
      "metadata": {
        "id": "rlUDcg8zPLog",
        "colab_type": "code",
        "colab": {}
      },
      "source": [
        "# function to check if input connects to output, starts from output\n",
        "def check_course_to_out(gene, is_active, n):\n",
        "    if not is_active[n]:\n",
        "        is_active[n] = True\n",
        "        t = gene[n][0]\n",
        "        if n >= node_num:    # output node\n",
        "            in_num = out_in_num[t]\n",
        "        else:    # intermediate node\n",
        "            in_num = func_in_num[t]\n",
        "\n",
        "        for i in range(in_num):\n",
        "            if gene[n][i+1] >= input_num:\n",
        "                check_course_to_out(gene, is_active, gene[n][i+1] - input_num)\n",
        "        return is_active"
      ],
      "execution_count": 6,
      "outputs": []
    },
    {
      "cell_type": "code",
      "metadata": {
        "id": "KLWb9NO6PLoj",
        "colab_type": "code",
        "colab": {
          "base_uri": "https://localhost:8080/",
          "height": 969
        },
        "outputId": "ad1ef5c0-7afe-4a85-c4bd-3c421597054d"
      },
      "source": [
        "# keep initializing first gene until one is found with an active input and output node\n",
        "is_active[:] = False\n",
        "first_layer_is_conv = False\n",
        "while( not is_active[-1]  ): \n",
        "    is_active[:] = False\n",
        "    init_gene()\n",
        "    is_active = check_course_to_out(gene, is_active, node_num)\n",
        "    index_first_layer = np.where(is_active == True)[0][0]\n",
        "    #print(index_first_layer)\n",
        "    first_layer_is_conv = gene[index_first_layer][0] < 6\n",
        "    #print(first_layer_is_conv) \n",
        "print(gene)\n",
        "print(is_active)"
      ],
      "execution_count": 7,
      "outputs": [
        {
          "output_type": "stream",
          "text": [
            "[[ 3  0]\n",
            " [ 2  0]\n",
            " [ 6  0]\n",
            " [ 3  2]\n",
            " [ 7  0]\n",
            " [ 1  0]\n",
            " [ 4  0]\n",
            " [ 7  7]\n",
            " [ 2  7]\n",
            " [ 7  9]\n",
            " [ 6  4]\n",
            " [ 5 10]\n",
            " [ 0  6]\n",
            " [ 3  8]\n",
            " [ 3  8]\n",
            " [ 4 11]\n",
            " [ 1 10]\n",
            " [ 7  9]\n",
            " [ 1 13]\n",
            " [ 4 13]\n",
            " [ 3 13]\n",
            " [ 2 20]\n",
            " [ 7 20]\n",
            " [ 2 18]\n",
            " [ 1 15]\n",
            " [ 5 20]\n",
            " [ 3 25]\n",
            " [ 5 25]\n",
            " [ 1 26]\n",
            " [ 6 28]\n",
            " [ 0 25]\n",
            " [ 7 24]\n",
            " [ 2 25]\n",
            " [ 6 27]\n",
            " [ 1 26]\n",
            " [ 0 31]\n",
            " [ 5 33]\n",
            " [ 0 32]\n",
            " [ 0 30]\n",
            " [ 4 32]\n",
            " [ 5 39]\n",
            " [ 1 35]\n",
            " [ 0 38]\n",
            " [ 5 43]\n",
            " [ 4 42]\n",
            " [ 2 36]\n",
            " [ 5 37]\n",
            " [ 6 44]\n",
            " [ 4 47]\n",
            " [ 0 48]\n",
            " [ 0 41]]\n",
            "[False False False False False False  True  True False False False False\n",
            " False False  True False False False False False False False False False\n",
            "  True False False  True False  True False False False False False False\n",
            " False False  True False  True False False False False False False False\n",
            " False False  True]\n"
          ],
          "name": "stdout"
        }
      ]
    },
    {
      "cell_type": "code",
      "metadata": {
        "id": "18qkPu-jPLol",
        "colab_type": "code",
        "colab": {
          "base_uri": "https://localhost:8080/",
          "height": 34
        },
        "outputId": "df73ec85-2e55-4438-f628-886c75db1645"
      },
      "source": [
        "unique, counts = np.unique(is_active, return_counts=True)\n",
        "dict(zip(unique, counts))"
      ],
      "execution_count": 8,
      "outputs": [
        {
          "output_type": "execute_result",
          "data": {
            "text/plain": [
              "{False: 42, True: 9}"
            ]
          },
          "metadata": {
            "tags": []
          },
          "execution_count": 8
        }
      ]
    },
    {
      "cell_type": "code",
      "metadata": {
        "id": "-ccKSkooPLoo",
        "colab_type": "code",
        "colab": {}
      },
      "source": [
        "# mutation of gene value\n",
        "def mutate(gene_int, min_int, max_int):\n",
        "    #print()\n",
        "    #print('MUTATE')\n",
        "    #print(gene_int)\n",
        "    mutated_gene_int = gene_int\n",
        "    while gene_int == mutated_gene_int:\n",
        "        mutated_gene_int = min_int + np.random.randint(max_int - min_int)\n",
        "    #print(mutated_gene_int)\n",
        "    #print()\n",
        "    return mutated_gene_int\n",
        "\n",
        "def mutation(gene_to_mutate, is_active, mutation_rate=0.01):\n",
        "    active_check = False # value for checking if an active node mutated\n",
        "    gene = np.copy(gene_to_mutate)\n",
        "    for n in range(node_num+out_num):\n",
        "        # type mutation\n",
        "        t = gene[n, 0] # type int\n",
        "        type_num = func_type_num if n < node_num else out_type_num # lengths of list of numbers it could mutate into\n",
        "        if np.random.rand() < mutation_rate and type_num > 1: # mutate if random is higher than mutation rate and there is more than one possible int for the type\n",
        "            gene[n,0] = mutate(gene[n, 0], 0, type_num)\n",
        "            if is_active[n]: # if the type of an active layer was mutated, set active_check true\n",
        "                active_check = True\n",
        "                #print('TYPE')\n",
        "                #print(n)\n",
        "                #print(gene_to_mutate[n])\n",
        "                #print(gene[n])\n",
        "        # connection mutation\n",
        "        # calculate to which the connection part of the gene may connect to\n",
        "        col = np.min((int(n / rows), cols))\n",
        "        max_connect_id = col * rows + input_num\n",
        "        min_connect_id = (col - level_back) * rows + input_num if (col - level_back >= 0) else 0\n",
        "        in_num = func_in_num[t] if n < node_num else out_in_num[t] # how much inputs the layer takes\n",
        "        # iterate through connection ints of the gene for mutation\n",
        "        for i in range(max_in_num):\n",
        "            if np.random.rand() < mutation_rate and max_connect_id - min_connect_id > 1:\n",
        "                gene[n, i+1] = mutate(gene[n, i+1], min_connect_id, max_connect_id)\n",
        "                if is_active[n] and i < in_num: # if the connection of an active layer was mutated, and the layer uses that connection value, set active_check true\n",
        "                    active_check = True\n",
        "                    #print('CONNECT')\n",
        "                    #print(n)\n",
        "                    #print(gene_to_mutate[n])\n",
        "                    #print(gene[n])\n",
        "    \n",
        "    new_is_active = np.copy(is_active)\n",
        "    #print(new_is_active)\n",
        "    new_is_active[:] = False\n",
        "    #print(new_is_active)\n",
        "    #print()\n",
        "    new_is_active = check_course_to_out(gene, new_is_active, node_num)\n",
        "    return gene, new_is_active, active_check\n",
        "\n",
        "# mutate until an active layer is mutated\n",
        "#active_check = False\n",
        "#while not active_check:\n",
        "#    print(active_check)\n",
        "#    mutated_gene, mutated_is_active, active_check = mutation(gene, is_active)\n",
        "#print(gene)\n",
        "#print(mutated_gene)\n",
        "#print(is_active)\n",
        "#print(mutated_is_active)"
      ],
      "execution_count": 9,
      "outputs": []
    },
    {
      "cell_type": "code",
      "metadata": {
        "id": "o0tvJm_9PLoq",
        "colab_type": "code",
        "colab": {}
      },
      "source": [
        "#for subarray1, subarray2 in zip(gene,mutated_gene):\n",
        "    #print(subarray1)\n",
        "    #print(subarray2)\n",
        "    #print(subarray1==subarray2)"
      ],
      "execution_count": 10,
      "outputs": []
    },
    {
      "cell_type": "code",
      "metadata": {
        "id": "Zs_zYyxHPLos",
        "colab_type": "code",
        "colab": {}
      },
      "source": [
        "def neutral_mutation(gene_to_mutate, is_active, mutation_rate=0.01):\n",
        "    gene = np.copy(gene_to_mutate)\n",
        "    for n in range(node_num+out_num):\n",
        "        # type mutation\n",
        "        t = gene[n, 0] # type int\n",
        "        type_num = func_type_num if n < node_num else out_type_num # lengths of list of numbers it could mutate into\n",
        "        if not is_active[n] and np.random.rand() < mutation_rate and type_num > 1: # mutate if random is higher than mutation rate and there is more than one possible int for the type\n",
        "            gene[n, 0] = mutate(gene[n, 0], 0, type_num)\n",
        "            #print('TYPE')\n",
        "            #print(n)\n",
        "            #print(gene_to_mutate[n])\n",
        "            #print(gene[n])\n",
        "        # connection mutation\n",
        "        # calculate to which the connection part of the gene may connect to\n",
        "        col = np.min((int(n / rows), cols))\n",
        "        max_connect_id = col * rows + input_num\n",
        "        min_connect_id = (col - level_back) * rows + input_num if (col - level_back >= 0) else 0\n",
        "        in_num = func_in_num[t] if n < node_num else out_in_num[t] # how much inputs the layer takes\n",
        "        # iterate through connection ints of the gene for mutation\n",
        "        for i in range(max_in_num):\n",
        "            if (not is_active[n] or i >= in_num) and np.random.rand() < mutation_rate and max_connect_id - min_connect_id > 1:\n",
        "                gene[n, i+1] = mutate(gene[n, i+1], min_connect_id, max_connect_id)\n",
        "                #print('CONNECT')\n",
        "                #print(n)\n",
        "                #print(gene_to_mutate[n])\n",
        "                #print(gene[n])\n",
        "    \n",
        "    new_is_active = np.copy(is_active)\n",
        "    new_is_active[:] = False\n",
        "    new_is_active = check_course_to_out(gene, new_is_active, node_num)\n",
        "    return gene, new_is_active\n",
        "\n",
        "#neutral_mutated_gene, neutral_mutated_is_active = neutral_mutation(gene, is_active)"
      ],
      "execution_count": 11,
      "outputs": []
    },
    {
      "cell_type": "code",
      "metadata": {
        "id": "qIZ1SDYUPLou",
        "colab_type": "code",
        "colab": {}
      },
      "source": [
        "#for subarray1, subarray2 in zip(gene,neutral_mutated_gene):\n",
        "    #print(subarray1)\n",
        "    #print(subarray2)\n",
        "    #print(subarray1==subarray2)"
      ],
      "execution_count": 12,
      "outputs": []
    },
    {
      "cell_type": "code",
      "metadata": {
        "id": "5vNSJK4BPLow",
        "colab_type": "code",
        "colab": {}
      },
      "source": [
        "#print(neutral_mutated_gene)\n",
        "#print(neutral_mutated_is_active)"
      ],
      "execution_count": 13,
      "outputs": []
    },
    {
      "cell_type": "code",
      "metadata": {
        "id": "d3mVd57CPLoy",
        "colab_type": "code",
        "colab": {}
      },
      "source": [
        "# gene to keras network\n",
        "def genotype_to_cnn(genotype, is_active):\n",
        "    network = keras.models.Sequential()\n",
        "    network.add(keras.layers.Input(shape=(32,32,3)))\n",
        "    for i,gene in enumerate(genotype):\n",
        "        if is_active[i]:\n",
        "            #Layers\n",
        "            #print(gene)\n",
        "            #print(convset[gene[0]])\n",
        "            #print()\n",
        "            if i==len(genotype)-1: # if last layer of gene\n",
        "                network.add(keras.layers.GlobalAveragePooling2D()) \n",
        "                if out_type[gene[0]] == 'full':     \n",
        "                    network.add(keras.layers.Dense(units=10, activation='softmax'))\n",
        "            elif convset[gene[0]] == 'ConvBlock32_3':\n",
        "                network.add(keras.layers.Conv2D(filters=32,kernel_size=3,padding='same'))\n",
        "            elif convset[gene[0]] == 'ConvBlock32_5':\n",
        "                network.add(keras.layers.Conv2D(filters=32,kernel_size=5,padding='same'))\n",
        "            elif convset[gene[0]] == 'ConvBlock64_3':\n",
        "                network.add(keras.layers.Conv2D(filters=64,kernel_size=3,padding='same'))\n",
        "            elif convset[gene[0]] == 'ConvBlock64_5':\n",
        "                network.add(keras.layers.Conv2D(filters=64,kernel_size=5,padding='same'))\n",
        "            elif convset[gene[0]] == 'ConvBlock128_3':\n",
        "                network.add(keras.layers.Conv2D(filters=128,kernel_size=3,padding='same'))\n",
        "            elif convset[gene[0]] == 'ConvBlock128_5':\n",
        "                network.add(keras.layers.Conv2D(filters=128,kernel_size=5,padding='same'))\n",
        "            elif convset[gene[0]] == 'ConvBlock256_3':\n",
        "                network.add(keras.layers.Conv2D(filters=256,kernel_size=3,padding='same'))\n",
        "            elif convset[gene[0]] == 'ConvBlock256_5':\n",
        "                network.add(keras.layers.Conv2D(filters=256,kernel_size=5,padding='same'))\n",
        "            elif convset[gene[0]] == 'pool_max':\n",
        "                try:\n",
        "                    network.add(keras.layers.MaxPooling2D(pool_size=2))\n",
        "                except:\n",
        "                    return 'Could not build'\n",
        "            elif convset[gene[0]] == 'pool_ave':\n",
        "                try:\n",
        "                    network.add(keras.layers.AveragePooling2D(pool_size=2))\n",
        "                except:\n",
        "                    return 'Could not build'\n",
        "            \n",
        "    #network.add(keras.layers.GlobalAveragePooling2D())        \n",
        "    #network.add(keras.layers.Dense(units=10, activation='softmax'))\n",
        "    \n",
        "    #print(network.summary())\n",
        "    return network"
      ],
      "execution_count": 14,
      "outputs": []
    },
    {
      "cell_type": "code",
      "metadata": {
        "id": "K0NwT47wPLo0",
        "colab_type": "code",
        "colab": {
          "base_uri": "https://localhost:8080/",
          "height": 68
        },
        "outputId": "db53c333-cfa5-4741-8fd4-0d63a331979e"
      },
      "source": [
        "# select part from cifar10 dataset for training and evaluation\n",
        "(x_train_full, y_train_full), (x_test, y_test) = cifar10.load_data()\n",
        "index = np.random.choice(x_train_full.shape[0], 5000, replace=False)  \n",
        "\n",
        "x_train = np.asarray(x_train_full[index])\n",
        "y_train = to_categorical(np.asarray(y_train_full[index].flatten()))\n",
        "\n",
        "y_train_full = to_categorical(y_train_full)\n",
        "y_test = to_categorical(y_test)\n",
        "\n",
        "print('x_train shape:', x_train.shape)\n",
        "print(x_train.shape[0], 'train samples')\n",
        "print(x_test.shape[0], 'test samples')"
      ],
      "execution_count": 15,
      "outputs": [
        {
          "output_type": "stream",
          "text": [
            "x_train shape: (5000, 32, 32, 3)\n",
            "5000 train samples\n",
            "10000 test samples\n"
          ],
          "name": "stdout"
        }
      ]
    },
    {
      "cell_type": "code",
      "metadata": {
        "id": "PSNvSbLyPLo4",
        "colab_type": "code",
        "colab": {}
      },
      "source": [
        "# train and evaluate fitness\n",
        "def train_single_network(model):\n",
        "    try:\n",
        "      model.compile(loss='categorical_crossentropy', optimizer='adam', metrics=['accuracy'])\n",
        "      #\"IF ERROR: RETURN KUT FITNESS\"\n",
        "      hist = model.fit(x_train,\n",
        "                    y_train, \n",
        "                    batch_size=128, \n",
        "                    epochs=25, \n",
        "                    validation_split=0.1,\n",
        "                    verbose=0)\n",
        "    except:\n",
        "      return 0\n",
        "    return model.evaluate(x_train, y_train, verbose=2)[1]"
      ],
      "execution_count": 16,
      "outputs": []
    },
    {
      "cell_type": "code",
      "metadata": {
        "id": "xfDDc7kmPLo8",
        "colab_type": "code",
        "colab": {}
      },
      "source": [
        "#test = genotype_to_cnn(gene, is_active)"
      ],
      "execution_count": 17,
      "outputs": []
    },
    {
      "cell_type": "code",
      "metadata": {
        "id": "ZCX1o96fQAZ3",
        "colab_type": "code",
        "colab": {}
      },
      "source": [
        "#val_acc = train_single_network(test)\n",
        "#print(val_acc)"
      ],
      "execution_count": 18,
      "outputs": []
    },
    {
      "cell_type": "code",
      "metadata": {
        "id": "-RoObP-wPLo_",
        "colab_type": "code",
        "colab": {}
      },
      "source": [
        "# evolution of population\n",
        "def evolution(parent_gene, parent_is_active, generations, mutation_rate):\n",
        "  start_time = time.time()\n",
        "  print(\"First gene fitness\")\n",
        "  best_fitness_per_generation=[]\n",
        "  parent_network = genotype_to_cnn(parent_gene, parent_is_active)\n",
        "  best_fitness = train_single_network(parent_network)\n",
        "  print(\"Starting evolution\")\n",
        "  for i in range(generations):\n",
        "    new_best = False\n",
        "    for i in range(2): # generate children and evaluate if they are better than parent, if so next generation parent is that child\n",
        "      # mutate until an active layer is mutated\n",
        "      active_check = False\n",
        "      while not active_check:\n",
        "        child_gene, child_is_active, active_check = mutation(parent_gene, parent_is_active, mutation_rate=mutation_rate)\n",
        "        child_network = genotype_to_cnn(child_gene, child_is_active)\n",
        "\n",
        "      # get fitness for child\n",
        "      if child_network == 'Could not build':\n",
        "        child_fitness = 0\n",
        "      else:\n",
        "        child_fitness = train_single_network(child_network)\n",
        "\n",
        "      # if fitness of child is better than his parent, make child next parent\n",
        "      if child_fitness > best_fitness:\n",
        "        best_fitness = child_fitness\n",
        "        parent_gene = child_gene\n",
        "        parent_is_active = child_is_active\n",
        "        new_best = True\n",
        "    \n",
        "    best_fitness_per_generation.append(best_fitness)\n",
        "    plt.plot(best_fitness_per_generation)\n",
        "    plt.xlabel('Generations')\n",
        "    plt.ylabel('Best Fitness')\n",
        "    plt.show()\n",
        "    if not new_best:\n",
        "      parent_gene, parent_is_active = neutral_mutation(parent_gene, parent_is_active, mutation_rate=mutation_rate)\n",
        "  print(\"--- %s seconds ---\" % (time.time() - start_time))\n",
        "  return parent_gene, parent_is_active, best_fitness_per_generation\n"
      ],
      "execution_count": 19,
      "outputs": []
    },
    {
      "cell_type": "code",
      "metadata": {
        "id": "tKLAmdGHwZax",
        "colab_type": "code",
        "colab": {
          "base_uri": "https://localhost:8080/",
          "height": 677
        },
        "outputId": "fe65748b-b597-4247-8ec2-a51cb94dff3d"
      },
      "source": [
        "best_gene, best_is_active, fitnesses = evolution(gene, is_active, 50, 0.05)"
      ],
      "execution_count": null,
      "outputs": [
        {
          "output_type": "stream",
          "text": [
            "First gene fitness\n",
            "157/157 - 1s - loss: 1.3555 - accuracy: 0.5188\n",
            "Starting evolution\n",
            "157/157 - 1s - loss: 1.3999 - accuracy: 0.5082\n",
            "157/157 - 1s - loss: 1.2588 - accuracy: 0.5460\n"
          ],
          "name": "stdout"
        },
        {
          "output_type": "display_data",
          "data": {
            "image/png": "[encoded data removed]",
            "text/plain": [
              "<Figure size 432x288 with 1 Axes>"
            ]
          },
          "metadata": {
            "tags": [],
            "needs_background": "light"
          }
        },
        {
          "output_type": "stream",
          "text": [
            "157/157 - 1s - loss: 1.8726 - accuracy: 0.3318\n",
            "157/157 - 0s - loss: 1.8911 - accuracy: 0.3212\n"
          ],
          "name": "stdout"
        },
        {
          "output_type": "display_data",
          "data": {
            "image/png": "[encoded data removed]",
            "text/plain": [
              "<Figure size 432x288 with 1 Axes>"
            ]
          },
          "metadata": {
            "tags": [],
            "needs_background": "light"
          }
        },
        {
          "output_type": "stream",
          "text": [
            "157/157 - 0s - loss: 1.0661 - accuracy: 0.6318\n"
          ],
          "name": "stdout"
        }
      ]
    },
    {
      "cell_type": "code",
      "metadata": {
        "id": "qVFQ2aNq0oIS",
        "colab_type": "code",
        "colab": {}
      },
      "source": [
        "plt.plot(fitnesses)\n",
        "plt.xlabel('Generations')\n",
        "plt.ylabel('Best Fitness')\n",
        "plt.savefig('cols50_levelsback10_mutationrate05_run1.png')\n",
        "plt.show()\n",
        "print(fitnesses[-1])"
      ],
      "execution_count": null,
      "outputs": []
    },
    {
      "cell_type": "code",
      "metadata": {
        "id": "BLBXxNBq360b",
        "colab_type": "code",
        "colab": {}
      },
      "source": [
        "best_network = genotype_to_cnn(best_gene, best_is_active)"
      ],
      "execution_count": null,
      "outputs": []
    },
    {
      "cell_type": "code",
      "metadata": {
        "id": "ZcjkCD7yOX7B",
        "colab_type": "code",
        "colab": {}
      },
      "source": [
        "# check if correct network is returned\n",
        "#train_single_network(best_network)"
      ],
      "execution_count": null,
      "outputs": []
    },
    {
      "cell_type": "code",
      "metadata": {
        "id": "s9QBqsfafJPH",
        "colab_type": "code",
        "colab": {}
      },
      "source": [
        "from tensorflow.keras.utils import plot_model\n",
        "plot_model(best_network, to_file='cols50_levelsback10_mutationrate05_run1_network.png')"
      ],
      "execution_count": null,
      "outputs": []
    },
    {
      "cell_type": "code",
      "metadata": {
        "id": "-NZbZhBoPLpB",
        "colab_type": "code",
        "colab": {}
      },
      "source": [
        "# train last/best network and test\n",
        "best_network = genotype_to_cnn(best_gene, best_is_active)\n",
        "print(best_network.summary())\n",
        "best_network.compile(loss='categorical_crossentropy', optimizer='adam', metrics=['accuracy'])\n",
        "hist = best_network.fit(x_train_full,\n",
        "                        y_train_full, \n",
        "                        batch_size=128, \n",
        "                        epochs=100)\n",
        "best_network.evaluate(x_test, y_test)"
      ],
      "execution_count": null,
      "outputs": []
    },
    {
      "cell_type": "code",
      "metadata": {
        "id": "BaUH8ylO-APN",
        "colab_type": "code",
        "colab": {}
      },
      "source": [
        ""
      ],
      "execution_count": null,
      "outputs": []
    }
  ]
}